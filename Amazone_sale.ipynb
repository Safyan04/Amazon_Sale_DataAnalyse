{
 "cells": [
  {
   "cell_type": "markdown",
   "id": "4e8c51a5",
   "metadata": {},
   "source": [
    "# Amazon Sales Data Analysis Project\n",
    "\n",
    "## Objective\n",
    "This project involves analyzing sales data from Amazon to extract meaningful business insights such as top-performing products, revenue trends, and monthly sales patterns."
   ]
  },
  {
   "cell_type": "markdown",
   "id": "1a298f79",
   "metadata": {},
   "source": [
    "## Step 1: Import Libraries and Load Dataset\n",
    "\n",
    "We begin by importing the necessary Python libraries:"
   ]
  },
  {
   "cell_type": "code",
   "execution_count": 203,
   "id": "c3214854",
   "metadata": {},
   "outputs": [],
   "source": [
    "import pandas as pd\n",
    "import numpy as np\n",
    "import matplotlib.pyplot as plt\n",
    "import seaborn as sns"
   ]
  },
  {
   "cell_type": "markdown",
   "id": "91269afd",
   "metadata": {},
   "source": [
    "#### Load the CSV File"
   ]
  },
  {
   "cell_type": "code",
   "execution_count": 204,
   "id": "83c69854",
   "metadata": {},
   "outputs": [],
   "source": [
    "df = pd.read_csv(\"Amazon Sale Report.csv\")"
   ]
  },
  {
   "cell_type": "markdown",
   "id": "9106ec74",
   "metadata": {},
   "source": [
    "## Step 2: Initial Data Exploration\n",
    "\n",
    "In this step, we explore the dataset to understand its structure:\n",
    "This helps us get an overview of the data we are working with.\n",
    "- `head()` shows the first five rows of the data."
   ]
  },
  {
   "cell_type": "code",
   "execution_count": 205,
   "id": "1d10c33c",
   "metadata": {},
   "outputs": [
    {
     "data": {
      "text/html": [
       "<div>\n",
       "<style scoped>\n",
       "    .dataframe tbody tr th:only-of-type {\n",
       "        vertical-align: middle;\n",
       "    }\n",
       "\n",
       "    .dataframe tbody tr th {\n",
       "        vertical-align: top;\n",
       "    }\n",
       "\n",
       "    .dataframe thead th {\n",
       "        text-align: right;\n",
       "    }\n",
       "</style>\n",
       "<table border=\"1\" class=\"dataframe\">\n",
       "  <thead>\n",
       "    <tr style=\"text-align: right;\">\n",
       "      <th></th>\n",
       "      <th>index</th>\n",
       "      <th>Order ID</th>\n",
       "      <th>Date</th>\n",
       "      <th>Status</th>\n",
       "      <th>Fulfilment</th>\n",
       "      <th>Sales Channel</th>\n",
       "      <th>ship-service-level</th>\n",
       "      <th>Category</th>\n",
       "      <th>Size</th>\n",
       "      <th>Courier Status</th>\n",
       "      <th>...</th>\n",
       "      <th>currency</th>\n",
       "      <th>Amount</th>\n",
       "      <th>ship-city</th>\n",
       "      <th>ship-state</th>\n",
       "      <th>ship-postal-code</th>\n",
       "      <th>ship-country</th>\n",
       "      <th>B2B</th>\n",
       "      <th>fulfilled-by</th>\n",
       "      <th>New</th>\n",
       "      <th>PendingS</th>\n",
       "    </tr>\n",
       "  </thead>\n",
       "  <tbody>\n",
       "    <tr>\n",
       "      <th>0</th>\n",
       "      <td>0</td>\n",
       "      <td>405-8078784-5731545</td>\n",
       "      <td>04-30-22</td>\n",
       "      <td>Cancelled</td>\n",
       "      <td>Merchant</td>\n",
       "      <td>Amazon.in</td>\n",
       "      <td>Standard</td>\n",
       "      <td>T-shirt</td>\n",
       "      <td>S</td>\n",
       "      <td>On the Way</td>\n",
       "      <td>...</td>\n",
       "      <td>INR</td>\n",
       "      <td>647.62</td>\n",
       "      <td>MUMBAI</td>\n",
       "      <td>MAHARASHTRA</td>\n",
       "      <td>400081.0</td>\n",
       "      <td>IN</td>\n",
       "      <td>False</td>\n",
       "      <td>Easy Ship</td>\n",
       "      <td>NaN</td>\n",
       "      <td>NaN</td>\n",
       "    </tr>\n",
       "    <tr>\n",
       "      <th>1</th>\n",
       "      <td>1</td>\n",
       "      <td>171-9198151-1101146</td>\n",
       "      <td>04-30-22</td>\n",
       "      <td>Shipped - Delivered to Buyer</td>\n",
       "      <td>Merchant</td>\n",
       "      <td>Amazon.in</td>\n",
       "      <td>Standard</td>\n",
       "      <td>Shirt</td>\n",
       "      <td>3XL</td>\n",
       "      <td>Shipped</td>\n",
       "      <td>...</td>\n",
       "      <td>INR</td>\n",
       "      <td>406.00</td>\n",
       "      <td>BENGALURU</td>\n",
       "      <td>KARNATAKA</td>\n",
       "      <td>560085.0</td>\n",
       "      <td>IN</td>\n",
       "      <td>False</td>\n",
       "      <td>Easy Ship</td>\n",
       "      <td>NaN</td>\n",
       "      <td>NaN</td>\n",
       "    </tr>\n",
       "    <tr>\n",
       "      <th>2</th>\n",
       "      <td>2</td>\n",
       "      <td>404-0687676-7273146</td>\n",
       "      <td>04-30-22</td>\n",
       "      <td>Shipped</td>\n",
       "      <td>Amazon</td>\n",
       "      <td>Amazon.in</td>\n",
       "      <td>Expedited</td>\n",
       "      <td>Shirt</td>\n",
       "      <td>XL</td>\n",
       "      <td>Shipped</td>\n",
       "      <td>...</td>\n",
       "      <td>INR</td>\n",
       "      <td>329.00</td>\n",
       "      <td>NAVI MUMBAI</td>\n",
       "      <td>MAHARASHTRA</td>\n",
       "      <td>410210.0</td>\n",
       "      <td>IN</td>\n",
       "      <td>True</td>\n",
       "      <td>NaN</td>\n",
       "      <td>NaN</td>\n",
       "      <td>NaN</td>\n",
       "    </tr>\n",
       "    <tr>\n",
       "      <th>3</th>\n",
       "      <td>3</td>\n",
       "      <td>403-9615377-8133951</td>\n",
       "      <td>04-30-22</td>\n",
       "      <td>Cancelled</td>\n",
       "      <td>Merchant</td>\n",
       "      <td>Amazon.in</td>\n",
       "      <td>Standard</td>\n",
       "      <td>Blazzer</td>\n",
       "      <td>L</td>\n",
       "      <td>On the Way</td>\n",
       "      <td>...</td>\n",
       "      <td>INR</td>\n",
       "      <td>753.33</td>\n",
       "      <td>PUDUCHERRY</td>\n",
       "      <td>PUDUCHERRY</td>\n",
       "      <td>605008.0</td>\n",
       "      <td>IN</td>\n",
       "      <td>False</td>\n",
       "      <td>Easy Ship</td>\n",
       "      <td>NaN</td>\n",
       "      <td>NaN</td>\n",
       "    </tr>\n",
       "    <tr>\n",
       "      <th>4</th>\n",
       "      <td>4</td>\n",
       "      <td>407-1069790-7240320</td>\n",
       "      <td>04-30-22</td>\n",
       "      <td>Shipped</td>\n",
       "      <td>Amazon</td>\n",
       "      <td>Amazon.in</td>\n",
       "      <td>Expedited</td>\n",
       "      <td>Trousers</td>\n",
       "      <td>3XL</td>\n",
       "      <td>Shipped</td>\n",
       "      <td>...</td>\n",
       "      <td>INR</td>\n",
       "      <td>574.00</td>\n",
       "      <td>CHENNAI</td>\n",
       "      <td>TAMIL NADU</td>\n",
       "      <td>600073.0</td>\n",
       "      <td>IN</td>\n",
       "      <td>False</td>\n",
       "      <td>NaN</td>\n",
       "      <td>NaN</td>\n",
       "      <td>NaN</td>\n",
       "    </tr>\n",
       "  </tbody>\n",
       "</table>\n",
       "<p>5 rows × 21 columns</p>\n",
       "</div>"
      ],
      "text/plain": [
       "   index             Order ID      Date                        Status  \\\n",
       "0      0  405-8078784-5731545  04-30-22                     Cancelled   \n",
       "1      1  171-9198151-1101146  04-30-22  Shipped - Delivered to Buyer   \n",
       "2      2  404-0687676-7273146  04-30-22                       Shipped   \n",
       "3      3  403-9615377-8133951  04-30-22                     Cancelled   \n",
       "4      4  407-1069790-7240320  04-30-22                       Shipped   \n",
       "\n",
       "  Fulfilment Sales Channel ship-service-level  Category Size Courier Status  \\\n",
       "0   Merchant     Amazon.in           Standard   T-shirt    S     On the Way   \n",
       "1   Merchant     Amazon.in           Standard     Shirt  3XL        Shipped   \n",
       "2     Amazon     Amazon.in          Expedited     Shirt   XL        Shipped   \n",
       "3   Merchant     Amazon.in           Standard   Blazzer    L     On the Way   \n",
       "4     Amazon     Amazon.in          Expedited  Trousers  3XL        Shipped   \n",
       "\n",
       "   ...  currency  Amount    ship-city   ship-state ship-postal-code  \\\n",
       "0  ...       INR  647.62       MUMBAI  MAHARASHTRA         400081.0   \n",
       "1  ...       INR  406.00    BENGALURU    KARNATAKA         560085.0   \n",
       "2  ...       INR  329.00  NAVI MUMBAI  MAHARASHTRA         410210.0   \n",
       "3  ...       INR  753.33   PUDUCHERRY   PUDUCHERRY         605008.0   \n",
       "4  ...       INR  574.00      CHENNAI   TAMIL NADU         600073.0   \n",
       "\n",
       "   ship-country    B2B  fulfilled-by New  PendingS  \n",
       "0            IN  False     Easy Ship NaN       NaN  \n",
       "1            IN  False     Easy Ship NaN       NaN  \n",
       "2            IN   True           NaN NaN       NaN  \n",
       "3            IN  False     Easy Ship NaN       NaN  \n",
       "4            IN  False           NaN NaN       NaN  \n",
       "\n",
       "[5 rows x 21 columns]"
      ]
     },
     "execution_count": 205,
     "metadata": {},
     "output_type": "execute_result"
    }
   ],
   "source": [
    "df.head()"
   ]
  },
  {
   "cell_type": "markdown",
   "id": "122f839a",
   "metadata": {},
   "source": [
    "- `info()` provides data types and non-null values for each column."
   ]
  },
  {
   "cell_type": "code",
   "execution_count": 206,
   "id": "8560b4e1",
   "metadata": {},
   "outputs": [
    {
     "name": "stdout",
     "output_type": "stream",
     "text": [
      "<class 'pandas.core.frame.DataFrame'>\n",
      "RangeIndex: 128976 entries, 0 to 128975\n",
      "Data columns (total 21 columns):\n",
      " #   Column              Non-Null Count   Dtype  \n",
      "---  ------              --------------   -----  \n",
      " 0   index               128976 non-null  int64  \n",
      " 1   Order ID            128976 non-null  object \n",
      " 2   Date                128976 non-null  object \n",
      " 3   Status              128976 non-null  object \n",
      " 4   Fulfilment          128976 non-null  object \n",
      " 5   Sales Channel       128976 non-null  object \n",
      " 6   ship-service-level  128976 non-null  object \n",
      " 7   Category            128976 non-null  object \n",
      " 8   Size                128976 non-null  object \n",
      " 9   Courier Status      128976 non-null  object \n",
      " 10  Qty                 128976 non-null  int64  \n",
      " 11  currency            121176 non-null  object \n",
      " 12  Amount              121176 non-null  float64\n",
      " 13  ship-city           128941 non-null  object \n",
      " 14  ship-state          128941 non-null  object \n",
      " 15  ship-postal-code    128941 non-null  float64\n",
      " 16  ship-country        128941 non-null  object \n",
      " 17  B2B                 128976 non-null  bool   \n",
      " 18  fulfilled-by        39263 non-null   object \n",
      " 19  New                 0 non-null       float64\n",
      " 20  PendingS            0 non-null       float64\n",
      "dtypes: bool(1), float64(4), int64(2), object(14)\n",
      "memory usage: 19.8+ MB\n"
     ]
    }
   ],
   "source": [
    "df.info()"
   ]
  },
  {
   "cell_type": "markdown",
   "id": "8e076b77",
   "metadata": {},
   "source": [
    "- `describe()` gives statistical details like mean, std, min, and max for numeric columns."
   ]
  },
  {
   "cell_type": "code",
   "execution_count": 207,
   "id": "737f2c78",
   "metadata": {},
   "outputs": [
    {
     "data": {
      "text/html": [
       "<div>\n",
       "<style scoped>\n",
       "    .dataframe tbody tr th:only-of-type {\n",
       "        vertical-align: middle;\n",
       "    }\n",
       "\n",
       "    .dataframe tbody tr th {\n",
       "        vertical-align: top;\n",
       "    }\n",
       "\n",
       "    .dataframe thead th {\n",
       "        text-align: right;\n",
       "    }\n",
       "</style>\n",
       "<table border=\"1\" class=\"dataframe\">\n",
       "  <thead>\n",
       "    <tr style=\"text-align: right;\">\n",
       "      <th></th>\n",
       "      <th>index</th>\n",
       "      <th>Qty</th>\n",
       "      <th>Amount</th>\n",
       "      <th>ship-postal-code</th>\n",
       "      <th>New</th>\n",
       "      <th>PendingS</th>\n",
       "    </tr>\n",
       "  </thead>\n",
       "  <tbody>\n",
       "    <tr>\n",
       "      <th>count</th>\n",
       "      <td>128976.000000</td>\n",
       "      <td>128976.000000</td>\n",
       "      <td>121176.000000</td>\n",
       "      <td>128941.000000</td>\n",
       "      <td>0.0</td>\n",
       "      <td>0.0</td>\n",
       "    </tr>\n",
       "    <tr>\n",
       "      <th>mean</th>\n",
       "      <td>64486.130427</td>\n",
       "      <td>0.904401</td>\n",
       "      <td>648.562176</td>\n",
       "      <td>463945.677744</td>\n",
       "      <td>NaN</td>\n",
       "      <td>NaN</td>\n",
       "    </tr>\n",
       "    <tr>\n",
       "      <th>std</th>\n",
       "      <td>37232.897832</td>\n",
       "      <td>0.313368</td>\n",
       "      <td>281.185041</td>\n",
       "      <td>191458.488954</td>\n",
       "      <td>NaN</td>\n",
       "      <td>NaN</td>\n",
       "    </tr>\n",
       "    <tr>\n",
       "      <th>min</th>\n",
       "      <td>0.000000</td>\n",
       "      <td>0.000000</td>\n",
       "      <td>0.000000</td>\n",
       "      <td>110001.000000</td>\n",
       "      <td>NaN</td>\n",
       "      <td>NaN</td>\n",
       "    </tr>\n",
       "    <tr>\n",
       "      <th>25%</th>\n",
       "      <td>32242.750000</td>\n",
       "      <td>1.000000</td>\n",
       "      <td>449.000000</td>\n",
       "      <td>382421.000000</td>\n",
       "      <td>NaN</td>\n",
       "      <td>NaN</td>\n",
       "    </tr>\n",
       "    <tr>\n",
       "      <th>50%</th>\n",
       "      <td>64486.500000</td>\n",
       "      <td>1.000000</td>\n",
       "      <td>605.000000</td>\n",
       "      <td>500033.000000</td>\n",
       "      <td>NaN</td>\n",
       "      <td>NaN</td>\n",
       "    </tr>\n",
       "    <tr>\n",
       "      <th>75%</th>\n",
       "      <td>96730.250000</td>\n",
       "      <td>1.000000</td>\n",
       "      <td>788.000000</td>\n",
       "      <td>600024.000000</td>\n",
       "      <td>NaN</td>\n",
       "      <td>NaN</td>\n",
       "    </tr>\n",
       "    <tr>\n",
       "      <th>max</th>\n",
       "      <td>128974.000000</td>\n",
       "      <td>15.000000</td>\n",
       "      <td>5584.000000</td>\n",
       "      <td>989898.000000</td>\n",
       "      <td>NaN</td>\n",
       "      <td>NaN</td>\n",
       "    </tr>\n",
       "  </tbody>\n",
       "</table>\n",
       "</div>"
      ],
      "text/plain": [
       "               index            Qty         Amount  ship-postal-code  New  \\\n",
       "count  128976.000000  128976.000000  121176.000000     128941.000000  0.0   \n",
       "mean    64486.130427       0.904401     648.562176     463945.677744  NaN   \n",
       "std     37232.897832       0.313368     281.185041     191458.488954  NaN   \n",
       "min         0.000000       0.000000       0.000000     110001.000000  NaN   \n",
       "25%     32242.750000       1.000000     449.000000     382421.000000  NaN   \n",
       "50%     64486.500000       1.000000     605.000000     500033.000000  NaN   \n",
       "75%     96730.250000       1.000000     788.000000     600024.000000  NaN   \n",
       "max    128974.000000      15.000000    5584.000000     989898.000000  NaN   \n",
       "\n",
       "       PendingS  \n",
       "count       0.0  \n",
       "mean        NaN  \n",
       "std         NaN  \n",
       "min         NaN  \n",
       "25%         NaN  \n",
       "50%         NaN  \n",
       "75%         NaN  \n",
       "max         NaN  "
      ]
     },
     "execution_count": 207,
     "metadata": {},
     "output_type": "execute_result"
    }
   ],
   "source": [
    "df.describe()"
   ]
  },
  {
   "cell_type": "markdown",
   "id": "297fd718",
   "metadata": {},
   "source": [
    "- `columns` lists all column names in the dataset."
   ]
  },
  {
   "cell_type": "code",
   "execution_count": 208,
   "id": "ab41e631",
   "metadata": {},
   "outputs": [
    {
     "data": {
      "text/plain": [
       "Index(['index', 'Order ID', 'Date', 'Status', 'Fulfilment', 'Sales Channel',\n",
       "       'ship-service-level', 'Category', 'Size', 'Courier Status', 'Qty',\n",
       "       'currency', 'Amount', 'ship-city', 'ship-state', 'ship-postal-code',\n",
       "       'ship-country', 'B2B', 'fulfilled-by', 'New', 'PendingS'],\n",
       "      dtype='object')"
      ]
     },
     "execution_count": 208,
     "metadata": {},
     "output_type": "execute_result"
    }
   ],
   "source": [
    "df.columns"
   ]
  },
  {
   "cell_type": "markdown",
   "id": "a18bf819",
   "metadata": {},
   "source": [
    "## Step 3: Data Cleaning\n",
    "\n",
    "In this step, we prepare the dataset for analysis by:\n",
    "\n",
    "- Checking the missing values using `df.isnull().sum()`.\n",
    "\n",
    "Data cleaning ensures accuracy and consistency in our analysis."
   ]
  },
  {
   "cell_type": "code",
   "execution_count": 209,
   "id": "bf75ca3a",
   "metadata": {},
   "outputs": [
    {
     "data": {
      "text/plain": [
       "index                      0\n",
       "Order ID                   0\n",
       "Date                       0\n",
       "Status                     0\n",
       "Fulfilment                 0\n",
       "Sales Channel              0\n",
       "ship-service-level         0\n",
       "Category                   0\n",
       "Size                       0\n",
       "Courier Status             0\n",
       "Qty                        0\n",
       "currency                7800\n",
       "Amount                  7800\n",
       "ship-city                 35\n",
       "ship-state                35\n",
       "ship-postal-code          35\n",
       "ship-country              35\n",
       "B2B                        0\n",
       "fulfilled-by           89713\n",
       "New                   128976\n",
       "PendingS              128976\n",
       "dtype: int64"
      ]
     },
     "execution_count": 209,
     "metadata": {},
     "output_type": "execute_result"
    }
   ],
   "source": [
    "df.isnull().sum()"
   ]
  },
  {
   "cell_type": "markdown",
   "id": "ae3c374b",
   "metadata": {},
   "source": [
    "- Dropping Columns with Excessive Missing Values\n",
    "\n",
    "The columns **'New'**, **'PendingS'**, and **'fulfilled-by'** contain a large number of missing values which could negatively affect the analysis. Therefore, we drop these columns from the dataset to maintain data quality and focus on more complete data."
   ]
  },
  {
   "cell_type": "code",
   "execution_count": 210,
   "id": "7fdefb34",
   "metadata": {},
   "outputs": [],
   "source": [
    "df = df.drop('PendingS',axis=1)\n",
    "df = df.drop('New',axis=1)\n",
    "df = df.drop('fulfilled-by',axis=1)"
   ]
  },
  {
   "cell_type": "markdown",
   "id": "7810ef44",
   "metadata": {},
   "source": [
    "- Dropping unnecessary columns like 'index' and 'Order ID' using `drop()`."
   ]
  },
  {
   "cell_type": "code",
   "execution_count": 211,
   "id": "3cf5acbc",
   "metadata": {},
   "outputs": [],
   "source": [
    "df = df.drop('index', axis=1)\n",
    "df = df.drop('Order ID', axis=1)"
   ]
  },
  {
   "cell_type": "markdown",
   "id": "59db07ac",
   "metadata": {},
   "source": [
    "- Handling Missing Values in `currency` Column using `fillna()`"
   ]
  },
  {
   "cell_type": "code",
   "execution_count": 212,
   "id": "bb0a6a57",
   "metadata": {},
   "outputs": [],
   "source": [
    "df['currency'] = df['currency'].fillna(df['currency'].mode()[0])"
   ]
  },
  {
   "cell_type": "markdown",
   "id": "13f53527",
   "metadata": {},
   "source": [
    "- Drop Rows in `Amount` Column."
   ]
  },
  {
   "cell_type": "code",
   "execution_count": 213,
   "id": "f436df7a",
   "metadata": {},
   "outputs": [],
   "source": [
    "df = df.dropna(subset=['Amount'])"
   ]
  },
  {
   "cell_type": "markdown",
   "id": "359525a4",
   "metadata": {},
   "source": [
    "- Handling Missing Values in Columns using `fillna()` and `for loop`"
   ]
  },
  {
   "cell_type": "code",
   "execution_count": 214,
   "id": "a1e8177d",
   "metadata": {},
   "outputs": [],
   "source": [
    "df_ct = ['ship-city','ship-state','ship-postal-code','ship-country']\n",
    "\n",
    "for i in df_ct:\n",
    "    df[i] = df[i].fillna(df[i].mode()[0])"
   ]
  },
  {
   "cell_type": "markdown",
   "id": "6d952123",
   "metadata": {},
   "source": [
    "- Now Check, all missing values have been handled, and the dataset now contains no null entries.\n"
   ]
  },
  {
   "cell_type": "code",
   "execution_count": 215,
   "id": "802e94f2",
   "metadata": {},
   "outputs": [
    {
     "data": {
      "text/plain": [
       "Date                  0\n",
       "Status                0\n",
       "Fulfilment            0\n",
       "Sales Channel         0\n",
       "ship-service-level    0\n",
       "Category              0\n",
       "Size                  0\n",
       "Courier Status        0\n",
       "Qty                   0\n",
       "currency              0\n",
       "Amount                0\n",
       "ship-city             0\n",
       "ship-state            0\n",
       "ship-postal-code      0\n",
       "ship-country          0\n",
       "B2B                   0\n",
       "dtype: int64"
      ]
     },
     "execution_count": 215,
     "metadata": {},
     "output_type": "execute_result"
    }
   ],
   "source": [
    "df.isnull().sum()"
   ]
  },
  {
   "cell_type": "markdown",
   "id": "050f3e83",
   "metadata": {},
   "source": [
    "- Converting `Date` column to datetime format for easier time-based analysis."
   ]
  },
  {
   "cell_type": "code",
   "execution_count": 216,
   "id": "8ee9a955",
   "metadata": {},
   "outputs": [
    {
     "name": "stderr",
     "output_type": "stream",
     "text": [
      "C:\\Users\\Safyan AhmaD\\AppData\\Local\\Temp\\ipykernel_5712\\2394721818.py:1: UserWarning: Could not infer format, so each element will be parsed individually, falling back to `dateutil`. To ensure parsing is consistent and as-expected, please specify a format.\n",
      "  df['Date'] = pd.to_datetime(df['Date'])\n"
     ]
    }
   ],
   "source": [
    "df['Date'] = pd.to_datetime(df['Date'])"
   ]
  },
  {
   "cell_type": "markdown",
   "id": "16bdb020",
   "metadata": {},
   "source": [
    "- Date into Months"
   ]
  },
  {
   "cell_type": "code",
   "execution_count": 217,
   "id": "05327387",
   "metadata": {},
   "outputs": [],
   "source": [
    "df['Month'] =df['Date'].dt.month"
   ]
  },
  {
   "cell_type": "markdown",
   "id": "d479d0e0",
   "metadata": {},
   "source": [
    "- Check unique values in columns"
   ]
  },
  {
   "cell_type": "code",
   "execution_count": 218,
   "id": "3c936f51",
   "metadata": {},
   "outputs": [
    {
     "data": {
      "text/plain": [
       "Date                    91\n",
       "Status                  12\n",
       "Fulfilment               2\n",
       "Sales Channel            1\n",
       "ship-service-level       2\n",
       "Category                 9\n",
       "Size                    11\n",
       "Courier Status           3\n",
       "Qty                      7\n",
       "currency                 1\n",
       "Amount                1408\n",
       "ship-city             8697\n",
       "ship-state              68\n",
       "ship-postal-code      9268\n",
       "ship-country             1\n",
       "B2B                      2\n",
       "Month                    4\n",
       "dtype: int64"
      ]
     },
     "execution_count": 218,
     "metadata": {},
     "output_type": "execute_result"
    }
   ],
   "source": [
    "df.nunique()"
   ]
  },
  {
   "cell_type": "markdown",
   "id": "438e7724",
   "metadata": {},
   "source": [
    "- Remove Single Value columns."
   ]
  },
  {
   "cell_type": "code",
   "execution_count": 219,
   "id": "0fae2a3a",
   "metadata": {},
   "outputs": [],
   "source": [
    "df = df.drop('Sales Channel', axis=1)\n",
    "df = df.drop('currency', axis=1)\n",
    "df = df.drop('ship-country', axis=1)"
   ]
  },
  {
   "cell_type": "markdown",
   "id": "dd6c9517",
   "metadata": {},
   "source": [
    "- Check the Duplicates in Data"
   ]
  },
  {
   "cell_type": "code",
   "execution_count": 220,
   "id": "43410ea9",
   "metadata": {},
   "outputs": [
    {
     "data": {
      "text/plain": [
       "np.int64(1616)"
      ]
     },
     "execution_count": 220,
     "metadata": {},
     "output_type": "execute_result"
    }
   ],
   "source": [
    "df.duplicated().sum()"
   ]
  },
  {
   "cell_type": "markdown",
   "id": "d9b4a0ef",
   "metadata": {},
   "source": [
    "- Remove the duplicates"
   ]
  },
  {
   "cell_type": "code",
   "execution_count": 221,
   "id": "1e984f10",
   "metadata": {},
   "outputs": [],
   "source": [
    "df.drop_duplicates(inplace=True)"
   ]
  },
  {
   "cell_type": "markdown",
   "id": "0be24763",
   "metadata": {},
   "source": [
    "- Now fix the duplicate values"
   ]
  },
  {
   "cell_type": "code",
   "execution_count": 222,
   "id": "b0887f05",
   "metadata": {},
   "outputs": [
    {
     "data": {
      "text/plain": [
       "np.int64(0)"
      ]
     },
     "execution_count": 222,
     "metadata": {},
     "output_type": "execute_result"
    }
   ],
   "source": [
    "df.duplicated().sum()"
   ]
  },
  {
   "cell_type": "markdown",
   "id": "936bfee6",
   "metadata": {},
   "source": [
    "- Check the Outliers"
   ]
  },
  {
   "cell_type": "code",
   "execution_count": 223,
   "id": "0c3f0668",
   "metadata": {},
   "outputs": [
    {
     "data": {
      "image/png": "[encoded data removed]",
      "text/plain": [
       "<Figure size 640x480 with 1 Axes>"
      ]
     },
     "metadata": {},
     "output_type": "display_data"
    }
   ],
   "source": [
    "sns.boxplot(df['Amount'])\n",
    "plt.title('Outliers in Amount')\n",
    "plt.show()"
   ]
  },
  {
   "cell_type": "markdown",
   "id": "a1da94e4",
   "metadata": {},
   "source": [
    "- Remove the Outliers "
   ]
  },
  {
   "cell_type": "code",
   "execution_count": 224,
   "id": "63266208",
   "metadata": {},
   "outputs": [],
   "source": [
    "Q1 = df['Amount'].quantile(0.25)\n",
    "Q3 = df['Amount'].quantile(0.75)\n",
    "IQR = Q3 - Q1\n",
    "lower = Q1 - 1.5 * IQR\n",
    "upper = Q3 + 1.5 * IQR\n",
    "df = df[(df['Amount'] >= lower) & (df['Amount'] <= upper)]"
   ]
  },
  {
   "cell_type": "markdown",
   "id": "f83beaae",
   "metadata": {},
   "source": [
    "- Fix the Outliers"
   ]
  },
  {
   "cell_type": "code",
   "execution_count": 225,
   "id": "403423af",
   "metadata": {},
   "outputs": [
    {
     "data": {
      "image/png": "[encoded data removed]",
      "text/plain": [
       "<Figure size 640x480 with 1 Axes>"
      ]
     },
     "metadata": {},
     "output_type": "display_data"
    }
   ],
   "source": [
    "sns.boxplot(df['Amount'])\n",
    "plt.title('After Removing the Outliers')\n",
    "plt.tight_layout()\n",
    "plt.show()"
   ]
  },
  {
   "cell_type": "markdown",
   "id": "7490e0c0",
   "metadata": {},
   "source": [
    "## Step 4: Data Visualization"
   ]
  },
  {
   "cell_type": "markdown",
   "id": "8d7bb6b0",
   "metadata": {},
   "source": [
    "### Products Selling"
   ]
  },
  {
   "cell_type": "code",
   "execution_count": 226,
   "id": "b432c32b",
   "metadata": {},
   "outputs": [
    {
     "data": {
      "image/png": "[encoded data removed]",
      "text/plain": [
       "<Figure size 640x480 with 1 Axes>"
      ]
     },
     "metadata": {},
     "output_type": "display_data"
    }
   ],
   "source": [
    "xs  = df['Category'].value_counts()\n",
    "#plt.pie(xs, labels=xs.index, autopct='%1.2f%%')\n",
    "sns.barplot(xs)\n",
    "plt.title('Product Selling')\n",
    "plt.tight_layout()\n",
    "plt.show()"
   ]
  },
  {
   "cell_type": "code",
   "execution_count": 227,
   "id": "6d5f9d86",
   "metadata": {},
   "outputs": [
    {
     "data": {
      "text/plain": [
       "Month\n",
       "3       97939.85\n",
       "4    27024240.05\n",
       "5    23831361.21\n",
       "6    21520447.03\n",
       "Name: Amount, dtype: float64"
      ]
     },
     "execution_count": 227,
     "metadata": {},
     "output_type": "execute_result"
    }
   ],
   "source": [
    "mon = df.groupby('Month')['Amount'].sum()\n",
    "mon"
   ]
  },
  {
   "cell_type": "markdown",
   "id": "efd80c31",
   "metadata": {},
   "source": [
    "### Total Sales by month"
   ]
  },
  {
   "cell_type": "code",
   "execution_count": 228,
   "id": "79acafa9",
   "metadata": {},
   "outputs": [
    {
     "data": {
      "image/png": "[encoded data removed]",
      "text/plain": [
       "<Figure size 640x480 with 1 Axes>"
      ]
     },
     "metadata": {},
     "output_type": "display_data"
    }
   ],
   "source": [
    "sns.barplot(mon)\n",
    "plt.title('Sales by Month')\n",
    "plt.show()\n"
   ]
  },
  {
   "cell_type": "markdown",
   "id": "99e3a4e1",
   "metadata": {},
   "source": [
    "### Sales of Leading Month of 4"
   ]
  },
  {
   "cell_type": "code",
   "execution_count": 229,
   "id": "a0d292b8",
   "metadata": {},
   "outputs": [
    {
     "data": {
      "text/plain": [
       "Category\n",
       "Blazzer      3691\n",
       "Perfume       306\n",
       "Shirt       17296\n",
       "Shoes          62\n",
       "Socks         162\n",
       "T-shirt     16966\n",
       "Trousers     3624\n",
       "Wallet        370\n",
       "Name: Qty, dtype: int64"
      ]
     },
     "execution_count": 229,
     "metadata": {},
     "output_type": "execute_result"
    }
   ],
   "source": [
    "mon4 = df[df['Month']==4]\n",
    "led = mon4.groupby('Category')['Qty'].sum()\n",
    "led"
   ]
  },
  {
   "cell_type": "code",
   "execution_count": 230,
   "id": "cb23ee69",
   "metadata": {},
   "outputs": [
    {
     "data": {
      "image/png": "[encoded data removed]",
      "text/plain": [
       "<Figure size 640x480 with 1 Axes>"
      ]
     },
     "metadata": {},
     "output_type": "display_data"
    }
   ],
   "source": [
    "sns.barplot(led)\n",
    "plt.title('Sales of Leading Month')\n",
    "plt.tight_layout()\n",
    "plt.show()"
   ]
  },
  {
   "cell_type": "markdown",
   "id": "83775928",
   "metadata": {},
   "source": [
    "### Shipping Status"
   ]
  },
  {
   "cell_type": "code",
   "execution_count": 231,
   "id": "baf6a378",
   "metadata": {},
   "outputs": [
    {
     "data": {
      "image/png": "[encoded data removed]",
      "text/plain": [
       "<Figure size 640x480 with 1 Axes>"
      ]
     },
     "metadata": {},
     "output_type": "display_data"
    }
   ],
   "source": [
    "status = df['Status'].value_counts()\n",
    "hstatus = status.head(4)\n",
    "plt.pie(hstatus, labels=hstatus.index, autopct=\"%1.2f%%\")\n",
    "plt.tight_layout()\n",
    "plt.title('Shipment Status of products')\n",
    "plt.show()"
   ]
  },
  {
   "cell_type": "markdown",
   "id": "65eff8be",
   "metadata": {},
   "source": [
    "### Service level of product"
   ]
  },
  {
   "cell_type": "code",
   "execution_count": 232,
   "id": "d8ae5152",
   "metadata": {},
   "outputs": [
    {
     "data": {
      "image/png": "[encoded data removed]",
      "text/plain": [
       "<Figure size 640x480 with 1 Axes>"
      ]
     },
     "metadata": {},
     "output_type": "display_data"
    }
   ],
   "source": [
    "sat = df['ship-service-level'].value_counts()\n",
    "plt.pie(sat, labels=sat.index, autopct=\"%1.2f%%\")\n",
    "plt.legend()\n",
    "plt.tight_layout()\n",
    "plt.show()"
   ]
  },
  {
   "cell_type": "markdown",
   "id": "6ec08064",
   "metadata": {},
   "source": [
    "### Courier Status"
   ]
  },
  {
   "cell_type": "code",
   "execution_count": 233,
   "id": "f7dd9307",
   "metadata": {},
   "outputs": [
    {
     "data": {
      "image/png": "[encoded data removed]",
      "text/plain": [
       "<Figure size 640x480 with 1 Axes>"
      ]
     },
     "metadata": {},
     "output_type": "display_data"
    }
   ],
   "source": [
    "cs = df['Courier Status'].value_counts()\n",
    "plt.pie(cs, labels=cs.index, autopct='%1.2f%%')\n",
    "plt.title('Status of Courier')\n",
    "plt.tight_layout()\n",
    "plt.show()"
   ]
  },
  {
   "cell_type": "markdown",
   "id": "9b42121e",
   "metadata": {},
   "source": [
    "### Orders cities top 5"
   ]
  },
  {
   "cell_type": "code",
   "execution_count": 234,
   "id": "586728f4",
   "metadata": {},
   "outputs": [
    {
     "data": {
      "image/png": "[encoded data removed]",
      "text/plain": [
       "<Figure size 640x480 with 1 Axes>"
      ]
     },
     "metadata": {},
     "output_type": "display_data"
    }
   ],
   "source": [
    "ord = df['ship-city'].value_counts()\n",
    "ord.head()\n",
    "sns.barplot(ord.head())\n",
    "plt.title('Maximum Orders in top 5 cities')\n",
    "plt.tight_layout()\n",
    "plt.show()"
   ]
  },
  {
   "cell_type": "code",
   "execution_count": 235,
   "id": "aa0e7b9c",
   "metadata": {},
   "outputs": [
    {
     "data": {
      "text/plain": [
       "Index(['Date', 'Status', 'Fulfilment', 'ship-service-level', 'Category',\n",
       "       'Size', 'Courier Status', 'Qty', 'Amount', 'ship-city', 'ship-state',\n",
       "       'ship-postal-code', 'B2B', 'Month'],\n",
       "      dtype='object')"
      ]
     },
     "execution_count": 235,
     "metadata": {},
     "output_type": "execute_result"
    }
   ],
   "source": [
    "df.columns"
   ]
  },
  {
   "cell_type": "code",
   "execution_count": 236,
   "id": "d7989d79",
   "metadata": {},
   "outputs": [
    {
     "data": {
      "text/plain": [
       "Category\n",
       "Blazzer     48\n",
       "Perfume     36\n",
       "Shirt       54\n",
       "Shoes       20\n",
       "Socks       27\n",
       "T-shirt     57\n",
       "Trousers    48\n",
       "Wallet      29\n",
       "Watch        2\n",
       "Name: ship-state, dtype: int64"
      ]
     },
     "execution_count": 236,
     "metadata": {},
     "output_type": "execute_result"
    }
   ],
   "source": [
    "stat = df.groupby('Category')['ship-state'].nunique()\n",
    "stat"
   ]
  },
  {
   "cell_type": "code",
   "execution_count": 237,
   "id": "29c752ac",
   "metadata": {},
   "outputs": [
    {
     "data": {
      "text/plain": [
       "ship-city\n",
       "BENGALURU       10257\n",
       "HYDERABAD        7285\n",
       "MUMBAI           5647\n",
       "NEW DELHI        5213\n",
       "CHENNAI          4957\n",
       "                ...  \n",
       "NIMAPADA            1\n",
       "Siruguppa           1\n",
       "JADUGORA            1\n",
       "CHOORNIKKARA        1\n",
       "Halol               1\n",
       "Name: count, Length: 8561, dtype: int64"
      ]
     },
     "execution_count": 237,
     "metadata": {},
     "output_type": "execute_result"
    }
   ],
   "source": [
    "df['ship-city'].value_counts()"
   ]
  },
  {
   "cell_type": "code",
   "execution_count": null,
   "id": "53942b19",
   "metadata": {},
   "outputs": [],
   "source": []
  }
 ],
 "metadata": {
  "kernelspec": {
   "display_name": "Python 3",
   "language": "python",
   "name": "python3"
  },
  "language_info": {
   "codemirror_mode": {
    "name": "ipython",
    "version": 3
   },
   "file_extension": ".py",
   "mimetype": "text/x-python",
   "name": "python",
   "nbconvert_exporter": "python",
   "pygments_lexer": "ipython3",
   "version": "3.12.7"
  }
 },
 "nbformat": 4,
 "nbformat_minor": 5
}
